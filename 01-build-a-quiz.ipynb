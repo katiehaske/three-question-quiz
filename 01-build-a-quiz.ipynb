{
 "cells": [
  {
   "cell_type": "markdown",
   "metadata": {
    "colab_type": "text",
    "id": "FY347VxWs_bJ"
   },
   "source": [
    "# Build a quiz: Part 1\n",
    "\n",
    "---\n",
    "\n",
    "\n"
   ]
  },
  {
   "cell_type": "markdown",
   "metadata": {},
   "source": [
    "### This notebook contains the code responsible for a basic, but enriching, quiz.\n",
    "\n",
    "The three main features of this edifying quiz include:\n",
    "1. Asking the user a series of questions\n",
    "2. Verifying whether the user's answer is correct or not\n",
    "3. Printing out a confirmation of answer accuracy"
   ]
  },
  {
   "cell_type": "code",
   "execution_count": null,
   "metadata": {
    "colab": {
     "base_uri": "https://localhost:8080/",
     "height": 136
    },
    "colab_type": "code",
    "id": "EQxWuVl7yFoU",
    "outputId": "cf3ee10c-9d8f-4d96-82b0-f730321d4a2f"
   },
   "outputs": [],
   "source": [
    "print(\"Welcome to my mf quiz!\")\n",
    "print('-------')\n",
    "print()\n",
    "\n",
    "question1 = input(\"What is my dog's name?\")\n",
    "print('Your answer : {}'.format(question1))\n",
    "\n",
    "if question1 != \"Solo\":\n",
    "    print(\"WRONG.\")\n",
    "else:\n",
    "    print(\"Noice.\")\n",
    "     \n",
    "question2 = input(\"What is my rabbit's name?\")\n",
    "print('Your answer : {}'.format(question2))\n",
    "\n",
    "if question2 != \"Georgia\":\n",
    "    print(\"C'mon, really?\")\n",
    "else:\n",
    "    print(\"Well duh.\")\n",
    "\n",
    "question3 = input(\"What is MY name?\")\n",
    "print('Your answer : {}'.format(question3))\n",
    "question3 = question3.lower()\n",
    "print('Your answer after .lower() function : {}'.format(question3))\n",
    "\n",
    "if question3 != \"katie\":\n",
    "    print(\"Get out.\")\n",
    "else:\n",
    "    print(\"Okay, you're right...this time.\")"
   ]
  },
  {
   "cell_type": "markdown",
   "metadata": {
    "colab_type": "text",
    "id": "sLMbYgaOyxiX"
   },
   "source": [
    "That was some obnoxious code,  amiright? Looping it would be much more convenient. This time, the quiz will:\n",
    "\n",
    "1. Repeat the same question if the ~~loser~~  user answers it wrong.\n",
    "2. Apply this rule to all the brilliant questions."
   ]
  },
  {
   "cell_type": "code",
   "execution_count": null,
   "metadata": {
    "colab": {
     "base_uri": "https://localhost:8080/",
     "height": 170
    },
    "colab_type": "code",
    "id": "csyxqJzBxPfN",
    "outputId": "0e671bec-2b70-424e-f110-d4792423dd7a"
   },
   "outputs": [],
   "source": [
    "print(\"Welcome to my mf quiz!\")\n",
    "print('-------')\n",
    "print()\n",
    "\n",
    "print('Question 1')\n",
    "question1 = input(\"What is my dog's name?\")\n",
    "\n",
    "while question1 != \"Solo\":\n",
    "    print('Your answer : {}'.format(question1))\n",
    "    print(\"WRONG.\")\n",
    "    question1 = input(\"What is my dog's name?\")\n",
    "print('Your answer : {}'.format(question1))\n",
    "print(\"Noice.\")\n",
    "print()\n",
    "\n",
    "print('Question 2')\n",
    "question2 = input(\"What is my rabbit's name?\")\n",
    "while question2 != \"Georgia\":\n",
    "    print('Your answer : {}'.format(question2))\n",
    "    print(\"C'mon, really?\")\n",
    "    question2 = input(\"What is my rabbit's name?\")\n",
    "print('Your answer : {}'.format(question2))\n",
    "print(\"Well duh.\")\n",
    "print()\n",
    "\n",
    "print('Question 3')\n",
    "question3 = input(\"What is MY name?\")\n",
    "question3 = question3.lower()\n",
    "while question3 != \"katie\":\n",
    "    print('Your answer : {}'.format(question3))\n",
    "    print(\"Get out.\")\n",
    "    question3 = input(\"What is MY name?\")\n",
    "    question3 = question3.lower()\n",
    "print('Your answer : {}'.format(question3))\n",
    "print(\"Okay, you're right...this time.\")\n",
    "print()\n",
    "        \n",
    "print(\"Congrats. You must be so proud.\")"
   ]
  },
  {
   "cell_type": "markdown",
   "metadata": {
    "colab_type": "text",
    "id": "nh4voWn8x3dM"
   },
   "source": [
    "Alright, since that was too easy for our ~~losers~~ users, allow only three wrong answers in total."
   ]
  },
  {
   "cell_type": "code",
   "execution_count": null,
   "metadata": {
    "colab": {
     "base_uri": "https://localhost:8080/",
     "height": 170
    },
    "colab_type": "code",
    "id": "adKPQe1Hsi2g",
    "outputId": "45d36fc8-90ae-4f00-b73a-73b1e6e57e6e",
    "tags": []
   },
   "outputs": [],
   "source": [
    "lives = 3\n",
    "\n",
    "print(\"Welcome to my mf quiz!\")\n",
    "print(\"You have 3 lives. Don't waste them.\")\n",
    "print()\n",
    "\n",
    "# Question 1\n",
    "print(\"Question 1:\")\n",
    "question1 = input(\"What is my dog's name?\")\n",
    "print('Your answer : {}'.format(question1))\n",
    "\n",
    "while question1 != \"Solo\":\n",
    "    lives -= 1 # same as lives = lives - 1\n",
    "    print(\"WRONG, you have {} chances left\".format(lives))\n",
    "    if lives == 0:\n",
    "        print(\"you LOST.\")\n",
    "        break\n",
    "    question1 = input(\"What is my dog's name?\")\n",
    "    print('Your answer : {}'.format(question1))\n",
    "print(\"Noice.\")\n",
    "print()\n",
    "    \n",
    "# Question 2 if lives > 0\n",
    "if lives > 0:\n",
    "    print(\"Question 2:\")\n",
    "    question2 = input(\"What is my rabbit's name?\")\n",
    "    print('Your answer : {}'.format(question2))\n",
    "    while question2 != \"Georgia\":\n",
    "        lives -=1\n",
    "        print(\"Nah, you have {} chances left\".format(lives))\n",
    "        if lives == 0:\n",
    "            print(\"Game overrrrrrr.\")\n",
    "            break\n",
    "        question2 = input(\"What is my rabbit's name?\")\n",
    "        print('Your answer : {}'.format(question2))\n",
    "print(\"Well duh.\")\n",
    "print()\n",
    "\n",
    "# Question 3 if lives > 0\n",
    "if lives > 0:\n",
    "    print(\"Question 3:\")\n",
    "    question3 = input(\"What is MY name?\")\n",
    "    question3 = question3.lower()\n",
    "    print(\"Your answer : {}\".format(question3))\n",
    "    while question3 != \"katie\":\n",
    "        lives -=1\n",
    "        print(\"Nope, you have {} chances left\".format(lives))\n",
    "        if lives == 0:\n",
    "            print(\"Damn, you almost made it to the end\")\n",
    "            break\n",
    "        question3 = input(\"What is MY name?\")\n",
    "        question3 = question3.lower()\n",
    "        print(\"Your answer : {}\".format(question3))\n",
    "print(\"Okay, you're right...this time.\")\n",
    "print()\n",
    "\n",
    "if lives > 0:\n",
    "    print(\"Congrats, you know all my pets' names!\")"
   ]
  }
 ],
 "metadata": {
  "colab": {
   "name": "Construire un quiz - SOLUTIONS S1-1A.ipynb",
   "provenance": []
  },
  "kernelspec": {
   "display_name": "Python 3",
   "language": "python",
   "name": "python3"
  },
  "language_info": {
   "codemirror_mode": {
    "name": "ipython",
    "version": 3
   },
   "file_extension": ".py",
   "mimetype": "text/x-python",
   "name": "python",
   "nbconvert_exporter": "python",
   "pygments_lexer": "ipython3",
   "version": "3.8.5"
  }
 },
 "nbformat": 4,
 "nbformat_minor": 4
}
