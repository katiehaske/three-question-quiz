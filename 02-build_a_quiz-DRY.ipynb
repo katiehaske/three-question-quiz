{
 "cells": [
  {
   "cell_type": "markdown",
   "metadata": {},
   "source": [
    "# Build a quiz - Part 2"
   ]
  },
  {
   "cell_type": "markdown",
   "metadata": {},
   "source": [
    "This is the final draft of the quiz from part 1."
   ]
  },
  {
   "cell_type": "code",
   "execution_count": 1,
   "metadata": {},
   "outputs": [
    {
     "name": "stdout",
     "output_type": "stream",
     "text": [
      "Welcome to my mf quiz!\n",
      "You have 3 lives. Don't waste them.\n",
      "\n",
      "Question 1:\n",
      "What is my dog's name?h\n",
      "Your answer : h\n",
      "WRONG, you have 2 chances left\n",
      "What is my dog's name?s\n",
      "Your answer : s\n",
      "WRONG, you have 1 chances left\n",
      "What is my dog's name?r\n",
      "Your answer : r\n",
      "WRONG, you have 0 chances left\n",
      "you LOST.\n",
      "Noice.\n",
      "\n",
      "Well duh.\n",
      "\n",
      "Okay, you're right...this time.\n",
      "\n"
     ]
    }
   ],
   "source": [
    "lives = 3\n",
    "\n",
    "print(\"Welcome to my mf quiz!\")\n",
    "print(\"You have 3 lives. Don't waste them.\")\n",
    "print()\n",
    "\n",
    "# Question 1\n",
    "print(\"Question 1:\")\n",
    "question1 = input(\"What is my dog's name?\")\n",
    "print('Your answer : {}'.format(question1))\n",
    "\n",
    "while question1 != \"Solo\":\n",
    "    lives -= 1 # same as lives = lives - 1\n",
    "    print(\"WRONG, you have {} chances left\".format(lives))\n",
    "    if lives == 0:\n",
    "        print(\"you LOST.\")\n",
    "        break\n",
    "    question1 = input(\"What is my dog's name?\")\n",
    "    print('Your answer : {}'.format(question1))\n",
    "print(\"Noice.\")\n",
    "print()\n",
    "    \n",
    "# Question 2 if lives > 0\n",
    "if lives > 0:\n",
    "    print(\"Question 2:\")\n",
    "    question2 = input(\"What is my rabbit's name?\")\n",
    "    print('Your answer : {}'.format(question2))\n",
    "    while question2 != \"Georgia\":\n",
    "        lives -=1\n",
    "        print(\"Nah, you have {} chances left\".format(lives))\n",
    "        if lives == 0:\n",
    "            print(\"Game overrrrrrr.\")\n",
    "            break\n",
    "        question2 = input(\"What is my rabbit's name?\")\n",
    "        print('Your answer : {}'.format(question2))\n",
    "print(\"Well duh.\")\n",
    "print()\n",
    "\n",
    "# Question 3 if lives > 0\n",
    "if lives > 0:\n",
    "    print(\"Question 3:\")\n",
    "    question3 = input(\"What is MY name?\")\n",
    "    question3 = question3.lower()\n",
    "    print(\"Your answer : {}\".format(question3))\n",
    "    while question3 != \"katie\":\n",
    "        lives -=1\n",
    "        print(\"Nope, you have {} chances left\".format(lives))\n",
    "        if lives == 0:\n",
    "            print(\"Damn, you almost made it to the end\")\n",
    "            break\n",
    "        question3 = input(\"What is MY name?\")\n",
    "        question3 = question3.lower()\n",
    "        print(\"Your answer : {}\".format(question3))\n",
    "print(\"Okay, you're right...this time.\")\n",
    "print()\n",
    "\n",
    "if lives > 0:\n",
    "    print(\"Congrats, you know all my pets' names!\")"
   ]
  },
  {
   "cell_type": "markdown",
   "metadata": {},
   "source": [
    "Now, let's clean that shit up.\n",
    "\n",
    "Dry the code up with functions."
   ]
  },
  {
   "cell_type": "code",
   "execution_count": 2,
   "metadata": {
    "tags": []
   },
   "outputs": [
    {
     "name": "stdout",
     "output_type": "stream",
     "text": [
      "What is my dog's name?Solo\n",
      "nah, you have 2 chances left\n",
      "What is my dog's name?solo\n",
      "nah, you have 1 chances left\n",
      "What is my dog's name?idk\n",
      "nah, you have 0 chances left\n",
      "game over boo hoo.\n",
      "\n",
      "\n",
      "\n"
     ]
    }
   ],
   "source": [
    "def ask_question(nb_attempts_left, question_sentence, right_answer): # three arguments\n",
    "    if nb_attempts_left > 0:\n",
    "        answer = input(question_sentence)\n",
    "        answer = answer.lower()\n",
    "        while answer != right_answer:\n",
    "            nb_attempts_left -=1\n",
    "            print(\"nah, you have {} chances left\".format(nb_attempts_left))\n",
    "            if nb_attempts_left == 0:\n",
    "                print(\"game over boo hoo.\")\n",
    "                break\n",
    "            answer = input(question_sentence)\n",
    "            answer = answer.lower()\n",
    "    print('')\n",
    "    return nb_attempts_left\n",
    "\n",
    "questions_answers_list = [\n",
    "    (\"What is my dog's name?\", \"Solo\"),\n",
    "    (\"What is my rabbit's name?\", \"Georgia\"),\n",
    "    (\"What is MY name?\", \"katie\")\n",
    "]\n",
    "\n",
    "nb_attempts = 3\n",
    "\n",
    "for question, answer in questions_answers_list :\n",
    "    nb_attempts = ask_question(nb_attempts, question, answer) # call the function\n",
    "\n",
    "if nb_attempts > 0:\n",
    "    print(\"Noice. You won.\")"
   ]
  },
  {
   "cell_type": "code",
   "execution_count": null,
   "metadata": {},
   "outputs": [],
   "source": []
  }
 ],
 "metadata": {
  "kernelspec": {
   "display_name": "Python 3",
   "language": "python",
   "name": "python3"
  },
  "language_info": {
   "codemirror_mode": {
    "name": "ipython",
    "version": 3
   },
   "file_extension": ".py",
   "mimetype": "text/x-python",
   "name": "python",
   "nbconvert_exporter": "python",
   "pygments_lexer": "ipython3",
   "version": "3.8.5"
  }
 },
 "nbformat": 4,
 "nbformat_minor": 4
}
